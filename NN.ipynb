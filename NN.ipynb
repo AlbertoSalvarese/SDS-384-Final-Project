{
 "cells": [
  {
   "attachments": {},
   "cell_type": "markdown",
   "metadata": {},
   "source": [
    "## **Generative Adversarial Network (GAN) + Score Predictor Network Architecture**\n",
    "\n",
    "The script contains a GAN for generating new samples, and a feed forward neural network that predicts G3 score given the other features. The purpose of this is to first see if we can create a GAN that accurately creates fake samples that is hard to distinguish from, then see the predictor network accuracy trained on real data only against real and fake data. This exploration of deep learning will help us gain more insight into the data."
   ]
  },
  {
   "attachments": {},
   "cell_type": "markdown",
   "metadata": {},
   "source": [
    "## **Imports, Installs, and Environment Setup**"
   ]
  },
  {
   "cell_type": "code",
   "execution_count": 153,
   "metadata": {},
   "outputs": [
    {
     "data": {
      "text/plain": [
       "<torch._C.Generator at 0x7fdc1c74edf0>"
      ]
     },
     "execution_count": 153,
     "metadata": {},
     "output_type": "execute_result"
    }
   ],
   "source": [
    "import torch\n",
    "import torch.nn as nn\n",
    "import torch.optim as optim\n",
    "from torch.utils.data import TensorDataset, DataLoader\n",
    "from sklearn.preprocessing import LabelEncoder\n",
    "from sklearn.preprocessing import StandardScaler\n",
    "from sklearn.preprocessing import MinMaxScaler\n",
    "import pandas as pd\n",
    "import matplotlib.pyplot as plt\n",
    "import numpy as np\n",
    "import requests\n",
    "from io import StringIO\n",
    "\n",
    "# Random Seed so script can be simulated on different machines\n",
    "torch.manual_seed(1)"
   ]
  },
  {
   "attachments": {},
   "cell_type": "markdown",
   "metadata": {},
   "source": [
    "## **Data Preprocessing**"
   ]
  },
  {
   "attachments": {},
   "cell_type": "markdown",
   "metadata": {},
   "source": [
    "#### **Categorical to Numeric Feature Conversion**"
   ]
  },
  {
   "cell_type": "code",
   "execution_count": 154,
   "metadata": {},
   "outputs": [],
   "source": [
    "# Function: Converts all categorical columns to numeric\n",
    "def X_prep(X):\n",
    "    X_copy = X.copy()\n",
    "    for col_name, col_data in X.items():\n",
    "        if col_data.dtype == 'object':\n",
    "            encoder = LabelEncoder()\n",
    "            numeric_col = encoder.fit_transform(col_data)\n",
    "            X_copy[col_name] = numeric_col\n",
    "\n",
    "    # assert none of the columns are categorical\n",
    "    assert all(X_copy[col].dtype != 'object' for col in X_copy.columns)\n",
    "\n",
    "    return X_copy"
   ]
  },
  {
   "attachments": {},
   "cell_type": "markdown",
   "metadata": {},
   "source": [
    "#### **Normalization**"
   ]
  },
  {
   "cell_type": "code",
   "execution_count": 156,
   "metadata": {},
   "outputs": [],
   "source": [
    "# Function: Normalizes each column by ranging the values from [0,1]\n",
    "def norm(X):\n",
    "    X_copy = X.copy()\n",
    "    scaler = MinMaxScaler(feature_range=(0,1))\n",
    "    return scaler.fit_transform(X_copy)"
   ]
  },
  {
   "attachments": {},
   "cell_type": "markdown",
   "metadata": {},
   "source": [
    "## **Preprocessing the Dataset**"
   ]
  },
  {
   "cell_type": "code",
   "execution_count": 157,
   "metadata": {},
   "outputs": [
    {
     "name": "stdout",
     "output_type": "stream",
     "text": [
      "Data shape: (649, 24)\n"
     ]
    }
   ],
   "source": [
    "excl_cols = ['Fjob', 'Mjob', 'reason', 'Fedu', 'school', 'guardian', 'Walc','G1', 'G2']\n",
    "\n",
    "data_path = \"data//\"\n",
    "data_portugese = \"student-por.xlsx\"\n",
    "\n",
    "data = pd.read_excel(data_path + data_portugese).drop(excl_cols, axis=1)\n",
    "\n",
    "data = X_prep(data)\n",
    "data = norm(data)\n",
    "print(f'Data shape: {data.shape}')\n",
    "\n",
    "# G3 is the last column of the dataset"
   ]
  },
  {
   "attachments": {},
   "cell_type": "markdown",
   "metadata": {},
   "source": [
    "## **The Discriminator Model**"
   ]
  },
  {
   "cell_type": "code",
   "execution_count": 158,
   "metadata": {},
   "outputs": [],
   "source": [
    "# Input: Samples\n",
    "# Output: Real or Fake\n",
    "\n",
    "class Discriminator(nn.Module):\n",
    "    def __init__(self, input_size):\n",
    "        super(Discriminator, self).__init__()\n",
    "        self.network = nn.Sequential(\n",
    "            nn.Linear(input_size, 64),\n",
    "            nn.ReLU(),\n",
    "            nn.Linear(64, 128),\n",
    "            nn.ReLU(),\n",
    "            nn.Linear(128, 64),\n",
    "            nn.ReLU(),\n",
    "            nn.Linear(64, 64),\n",
    "            nn.ReLU(),\n",
    "            nn.Linear(64, 1),\n",
    "            nn.Sigmoid(),\n",
    "        )\n",
    "\n",
    "    def forward(self, X):\n",
    "        return self.network(X)"
   ]
  },
  {
   "attachments": {},
   "cell_type": "markdown",
   "metadata": {},
   "source": [
    "## **Generator Model**"
   ]
  },
  {
   "cell_type": "code",
   "execution_count": 159,
   "metadata": {},
   "outputs": [],
   "source": [
    "# Input: Random Noise\n",
    "# Output: Fake data thats indistinguishable from real, in the discriminators eyes.\n",
    "\n",
    "class Generator(nn.Module):\n",
    "    def __init__(self, input_size, output_size):\n",
    "        super(Generator, self).__init__()\n",
    "        self.network = nn.Sequential(\n",
    "            nn.Linear(input_size, 64),\n",
    "            nn.ReLU(),\n",
    "            nn.Linear(64, 128),\n",
    "            nn.ReLU(),\n",
    "            nn.Linear(128, 128),\n",
    "            nn.ReLU(),\n",
    "            nn.Linear(128, 64),\n",
    "            nn.ReLU(),\n",
    "            nn.Linear(64, output_size),\n",
    "            nn.ReLU(),\n",
    "        )\n",
    "\n",
    "    def forward(self, X):\n",
    "        return self.network(X)"
   ]
  },
  {
   "attachments": {},
   "cell_type": "markdown",
   "metadata": {},
   "source": [
    "## **GAN Training**"
   ]
  },
  {
   "cell_type": "code",
   "execution_count": 170,
   "metadata": {},
   "outputs": [],
   "source": [
    "# Returns: Average Generator and Discriminator Loss per Epoch\n",
    "def gan_train(data, generator):\n",
    "    criterion = nn.BCELoss()\n",
    "\n",
    "    # Use GPU\n",
    "    device = torch.device(\"cuda\" if torch.cuda.is_available() else \"cpu\")\n",
    "\n",
    "    # Convert data to tensors, create batches\n",
    "    data = torch.tensor(data, dtype=torch.float32)\n",
    "    data_loader = DataLoader(data, batch_size=32, shuffle=True)\n",
    "\n",
    "    # Initialize Models & Optimizers\n",
    "    discriminator = Discriminator(data.shape[1]).to(device)\n",
    "    g_optimizer = torch.optim.Adam(generator.parameters(), lr=.004)\n",
    "    d_optimizer = torch.optim.Adam(discriminator.parameters(), lr=.002)\n",
    "\n",
    "    # Train\n",
    "    loss_per_epoch = []\n",
    "    for epoch in range(100):\n",
    "        running_gloss = 0.0\n",
    "        running_dloss = 0.0\n",
    "        batches = 0\n",
    "        for real_data in data_loader:\n",
    "            real_data = real_data.to(device)\n",
    "            batch_size = real_data.shape[0]\n",
    "\n",
    "            # DISCRIMINATOR TRAINING:\n",
    "            d_optimizer.zero_grad()\n",
    "\n",
    "            # 1. Get generator output\n",
    "            noise = torch.randn(batch_size, 64).to(device)\n",
    "            fake_data = generator(noise)\n",
    "\n",
    "            # 2. Get discriminator prediction from the fake data\n",
    "            disc_pred_fake = discriminator(fake_data.detach()).view(-1)\n",
    "\n",
    "            # 3. Compute fake data loss\n",
    "            fake_loss = criterion(disc_pred_fake, torch.zeros_like(disc_pred_fake))\n",
    "\n",
    "            # 4. Get discriminator prediction from the real data\n",
    "            disc_pred_real = discriminator(real_data).view(-1)\n",
    "\n",
    "            # 5. Compute real data loss\n",
    "            real_loss = criterion(disc_pred_real, torch.ones_like(disc_pred_real))\n",
    "\n",
    "            # 6. Update discriminator\n",
    "            d_loss = (fake_loss + real_loss) / 2\n",
    "            d_loss.backward()\n",
    "            d_optimizer.step()\n",
    "\n",
    "            running_dloss += d_loss.item()\n",
    "\n",
    "            # GENERATOR TRAINING:\n",
    "            g_optimizer.zero_grad()\n",
    "\n",
    "            # 1. Get fake data from generator\n",
    "            noise = torch.randn(batch_size, 64).to(device)\n",
    "            fake_data = generator(noise)\n",
    "\n",
    "            # 2. Get discriminator prediction\n",
    "            disc_pred_fake = discriminator(fake_data)\n",
    "\n",
    "            # 3. Compute loss (loss compared against ones, want the d_pred to train to be labeled as real)\n",
    "            g_loss = criterion(disc_pred_fake, torch.ones_like(disc_pred_fake))\n",
    "\n",
    "            # 4. Update generator\n",
    "            g_loss.backward()\n",
    "            g_optimizer.step()\n",
    "\n",
    "            running_gloss += g_loss.item()\n",
    "\n",
    "            batches += 1\n",
    "\n",
    "        loss_per_epoch.append([running_gloss / batches, running_dloss / batches])\n",
    "\n",
    "    return loss_per_epoch"
   ]
  },
  {
   "attachments": {},
   "cell_type": "markdown",
   "metadata": {},
   "source": [
    "## **GAN Evaluation**"
   ]
  },
  {
   "cell_type": "code",
   "execution_count": 171,
   "metadata": {},
   "outputs": [
    {
     "data": {
      "image/png": "[encoded data removed]",
      "text/plain": [
       "<Figure size 640x480 with 1 Axes>"
      ]
     },
     "metadata": {},
     "output_type": "display_data"
    },
    {
     "name": "stdout",
     "output_type": "stream",
     "text": [
      "Epoch 0 Generator Loss: 0.7723693223226638\n",
      "Epoch 50 Generator Loss: 0.597689517906734\n",
      "Epoch 0 Discriminator Loss: 0.627845945812407\n",
      "Epoch 50 Discriminator Loss: 0.6958858058566139\n"
     ]
    }
   ],
   "source": [
    "device = torch.device(\"cuda\" if torch.cuda.is_available() else \"cpu\")\n",
    "\n",
    "generator = Generator(64, data.shape[1]).to(device)\n",
    "losses = np.array(gan_train(data, generator))\n",
    "\n",
    "gen_losses = losses[:,0]\n",
    "disc_losses = losses[:,1]\n",
    "\n",
    "num_epochs = len(losses)\n",
    "\n",
    "x = np.arange(num_epochs)\n",
    "\n",
    "# Plot loss over epoch\n",
    "\n",
    "plt.plot(x, gen_losses, label = \"Generator Loss\", color = 'red')\n",
    "plt.plot(x, disc_losses, label = \"Discriminator Loss\", color = 'blue')\n",
    "plt.legend()\n",
    "plt.title(\"Model Loss per Epoch\")\n",
    "plt.xlabel(\"Epoch\")\n",
    "plt.ylabel(\"BCE Loss\")\n",
    "plt.show()\n",
    "\n",
    "print(f'Epoch 0 Generator Loss: {gen_losses[0]}')\n",
    "print(f'Epoch 100 Generator Loss: {gen_losses[-1]}')\n",
    "print(f'Epoch 0 Discriminator Loss: {disc_losses[0]}')\n",
    "print(f'Epoch 100 Discriminator Loss: {disc_losses[-1]}')"
   ]
  },
  {
   "attachments": {},
   "cell_type": "markdown",
   "metadata": {},
   "source": [
    "## **GAN Results Interpretation**\n",
    "\n",
    "After running the GAN with numerous hyperparameters and model architecture, the best loss for the generator and discriminator we could find was around .59-.69 BCELoss for both models. Most of the time, the generator loss curve would oscilate and diverge wildly, while the discriminator loss curve would be more tame but still diverge at times. This tells us that the discriminator is sort of unbeatable, the minimax game being one sided. Which is the exact opposite of what you want. You want the game to be equal so both models can become more accurate, eventually reaching an equilibrium. Our fairly high score but still some slight convergence tells us that the generator is having a hard time estimating the distribution of the data, and the discriminator is easily beating it, not even having to update. It doesnt see the generator as a threat.\n",
    "\n",
    "**Our Hyperparameters**:\n",
    "4 Hidden Layer Models (w/ ReLU and Sigmoid)\n",
    "LR .002 for discriminator & .004 for generator,\n",
    "100 Epochs,\n",
    "Batch Size 32"
   ]
  },
  {
   "attachments": {},
   "cell_type": "markdown",
   "metadata": {},
   "source": [
    "## **Score Predictor Network**"
   ]
  },
  {
   "cell_type": "code",
   "execution_count": 179,
   "metadata": {},
   "outputs": [],
   "source": [
    "class scorePredictorNet(nn.Module):\n",
    "    def __init__(self, input_size):\n",
    "        super(scorePredictorNet, self).__init__()\n",
    "        self.network = nn.Sequential(\n",
    "            nn.Linear(input_size, 64),\n",
    "            nn.ReLU(),\n",
    "            nn.Linear(64, 128),\n",
    "            nn.ReLU(),\n",
    "            nn.Linear(128, 64),\n",
    "            nn.ReLU(),\n",
    "            nn.Linear(64, 32),\n",
    "            nn.ReLU(),\n",
    "            nn.Linear(32, 1),\n",
    "        )\n",
    "\n",
    "    def forward(self, X):\n",
    "        return self.network(X)"
   ]
  },
  {
   "attachments": {},
   "cell_type": "markdown",
   "metadata": {},
   "source": [
    "## **Training the Predictor Network**"
   ]
  },
  {
   "cell_type": "code",
   "execution_count": 184,
   "metadata": {},
   "outputs": [],
   "source": [
    "def predictor_training(data, model):\n",
    "    # Hyperparameters\n",
    "    batch_size = 32\n",
    "    epochs = 50\n",
    "    criterion = nn.MSELoss()\n",
    "\n",
    "    # Use GPU\n",
    "    device = torch.device(\"cuda\" if torch.cuda.is_available() else \"cpu\")\n",
    "\n",
    "    # Create DataLoader\n",
    "    data = torch.tensor(data, dtype=torch.float)\n",
    "    data_loader = DataLoader(data, batch_size=batch_size, shuffle=True)\n",
    "\n",
    "    # Initialize Models & Optimizers\n",
    "    optimizer = torch.optim.Adam(model.parameters(), lr=.0001)\n",
    "\n",
    "    loss_per_epoch = []\n",
    "\n",
    "    # Train\n",
    "    for epoch in range(epochs):\n",
    "        running_loss = 0.0\n",
    "        batches = 0\n",
    "        for i, data in enumerate(data_loader):\n",
    "            y = data[:, -1]\n",
    "            X = data[:, :-1]\n",
    "            optimizer.zero_grad()\n",
    "            y_pred = model(X)\n",
    "            loss = criterion(y, y_pred)\n",
    "            loss.backward()\n",
    "            optimizer.step()\n",
    "            running_loss += loss.item()\n",
    "            batches += 1\n",
    "        loss_per_epoch.append(running_loss / batches)\n",
    "    return loss_per_epoch"
   ]
  },
  {
   "attachments": {},
   "cell_type": "markdown",
   "metadata": {},
   "source": [
    "## **Training Predictor Network on Real Data**"
   ]
  },
  {
   "cell_type": "code",
   "execution_count": 185,
   "metadata": {},
   "outputs": [
    {
     "name": "stderr",
     "output_type": "stream",
     "text": [
      "No artists with labels found to put in legend.  Note that artists whose label start with an underscore are ignored when legend() is called with no argument.\n"
     ]
    },
    {
     "data": {
      "image/png": "[encoded data removed]",
      "text/plain": [
       "<Figure size 640x480 with 1 Axes>"
      ]
     },
     "metadata": {},
     "output_type": "display_data"
    },
    {
     "name": "stdout",
     "output_type": "stream",
     "text": [
      "Epoch 0 Training Loss: 0.2520031086390927\n",
      "Epoch 50 Training Loss: 0.029156869188660665\n"
     ]
    }
   ],
   "source": [
    "model = scorePredictorNet(data.shape[1]-1)\n",
    "losses = np.array(predictor_training(data, model))\n",
    "\n",
    "num_epochs = np.arange(np.shape(losses)[0])\n",
    "\n",
    "plt.plot(num_epochs, losses, color = 'red')\n",
    "plt.legend()\n",
    "plt.title('Score Prediction Network Loss')\n",
    "plt.xlabel('Epoch')\n",
    "plt.ylabel('MSE Loss')\n",
    "plt.show()\n",
    "print(f'Epoch 0 Training Loss: {losses[0]}')\n",
    "print(f'Epoch 50 Training Loss: {losses[-1]}')"
   ]
  },
  {
   "attachments": {},
   "cell_type": "markdown",
   "metadata": {},
   "source": [
    "## **Predictor Network Results**\n",
    "\n",
    "After running through 50 epochs, we got an MSE loss of .03, which is decent. The only thing that worries us is that the loss drops very fast (basically after the first epoch), and converges very early on. Even with a slow learning rate. This tells us that the features might not be particularly useful for predicting the G3 score, because very different samples could be coming up with the same G3 score. This also tells us that the model doesn't have to work very hard to predict, which means that a simpler model could suffice. Meaning that the features aren't \"telling us\" anything particularly important. Or that we need more robust data to train on that would give us more insight into patterns."
   ]
  },
  {
   "attachments": {},
   "cell_type": "markdown",
   "metadata": {},
   "source": [
    "## **Training Predictor Network on GAN + Real Data**"
   ]
  },
  {
   "cell_type": "code",
   "execution_count": 193,
   "metadata": {},
   "outputs": [
    {
     "name": "stderr",
     "output_type": "stream",
     "text": [
      "/Users/jdogtherock/opt/anaconda3/lib/python3.9/site-packages/torch/nn/modules/loss.py:530: UserWarning: Using a target size (torch.Size([32, 1])) that is different to the input size (torch.Size([32])). This will likely lead to incorrect results due to broadcasting. Please ensure they have the same size.\n",
      "  return F.mse_loss(input, target, reduction=self.reduction)\n",
      "/Users/jdogtherock/opt/anaconda3/lib/python3.9/site-packages/torch/nn/modules/loss.py:530: UserWarning: Using a target size (torch.Size([18, 1])) that is different to the input size (torch.Size([18])). This will likely lead to incorrect results due to broadcasting. Please ensure they have the same size.\n",
      "  return F.mse_loss(input, target, reduction=self.reduction)\n",
      "No artists with labels found to put in legend.  Note that artists whose label start with an underscore are ignored when legend() is called with no argument.\n"
     ]
    },
    {
     "data": {
      "image/png": "[encoded data removed]",
      "text/plain": [
       "<Figure size 640x480 with 1 Axes>"
      ]
     },
     "metadata": {},
     "output_type": "display_data"
    },
    {
     "name": "stdout",
     "output_type": "stream",
     "text": [
      "Epoch 0 Training Loss: 0.10222395891096533\n",
      "Epoch 50 Training Loss: 0.064181216151976\n"
     ]
    }
   ],
   "source": [
    "noise = torch.randn(data.shape[0], 64)\n",
    "fake_data = generator(noise).detach().numpy()\n",
    "\n",
    "combined_data = np.vstack((data, fake_data))\n",
    "\n",
    "model = scorePredictorNet(data.shape[1]-1)\n",
    "\n",
    "losses = np.array(predictor_training(combined_data, model))\n",
    "\n",
    "num_epochs = np.arange(np.shape(losses)[0])\n",
    "\n",
    "plt.plot(num_epochs, losses, color = 'red')\n",
    "plt.legend()\n",
    "plt.title('Score Prediction Network Loss')\n",
    "plt.xlabel('Epoch')\n",
    "plt.ylabel('MSE Loss')\n",
    "plt.show()\n",
    "print(f'Epoch 0 Training Loss: {losses[0]}')\n",
    "print(f'Epoch 50 Training Loss: {losses[-1]}')"
   ]
  },
  {
   "attachments": {},
   "cell_type": "markdown",
   "metadata": {},
   "source": [
    "## **Final Interpretation**\n",
    "\n",
    "When we train the predictor network on both the real and fake data, the loss curve does not seem very different. However, it is definitely not as stable as the network with only real data trained and the loss after epoch 50 was .064, almost a 2x increase. This tells us that the fake generated data is indeed different from the real, which could make it seem like the GAN was poor. However, this difference in data might be just what we need in order to add \"robustness\" to the predictor model.\n",
    "\n",
    "All in all, the predictor network and the GAN performed fairly mediocre and ambiguously. Adding generated data to the training made it have similar loss curve, but a higher loss. But, since it seems like our current data doesnt have much that \"stands out\" that would make it easy for a model to regress G3 score, the different (and still slightly random) generated data might just be what we need in order to create an overall more robust model, that doesnt just generalize or fail to find underlying patterns. This could be useful if we wanted to use the models on a larger population such as different schools in different countries, or different exams.\n",
    "\n",
    "Or, maybe a deep learning approach to our hypotheses just isnt the answer.\n",
    "\n",
    "This exploration goes to show how deep a seemingly simple hypothesis/task can be, and why multiple routes of problem solving has its pros and cons."
   ]
  },
  {
   "attachments": {},
   "cell_type": "markdown",
   "metadata": {},
   "source": [
    "## **Possible Future Improvements**\n",
    "\n",
    "1. More Data\n",
    "2. Network Complexity\n",
    "3. Adding Cross Validation\n",
    "4. Automatic Hyperparameter Tuning"
   ]
  }
 ],
 "metadata": {
  "kernelspec": {
   "display_name": "base",
   "language": "python",
   "name": "python3"
  },
  "language_info": {
   "codemirror_mode": {
    "name": "ipython",
    "version": 3
   },
   "file_extension": ".py",
   "mimetype": "text/x-python",
   "name": "python",
   "nbconvert_exporter": "python",
   "pygments_lexer": "ipython3",
   "version": "3.9.16"
  },
  "orig_nbformat": 4
 },
 "nbformat": 4,
 "nbformat_minor": 2
}
